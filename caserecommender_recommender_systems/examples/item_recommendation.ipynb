{
 "cells": [
  {
   "cell_type": "code",
   "execution_count": 1,
   "id": "c378601e-415e-4f45-afe8-97686b126dfb",
   "metadata": {},
   "outputs": [],
   "source": [
    "from caserec.recommenders.item_recommendation.itemknn import ItemKNN\n",
    "from caserec.recommenders.item_recommendation.userknn import UserKNN\n",
    "from caserec.recommenders.item_recommendation.most_popular import MostPopular\n",
    "from caserec.utils.cross_validation import CrossValidation"
   ]
  },
  {
   "cell_type": "code",
   "execution_count": 2,
   "id": "f8e8e716",
   "metadata": {},
   "outputs": [],
   "source": [
    "db = '../datasets/ml-100k/u.data'\n",
    "folds_path = '../datasets/ml-100k/'"
   ]
  },
  {
   "cell_type": "code",
   "execution_count": 3,
   "id": "624f78b5",
   "metadata": {},
   "outputs": [
    {
     "name": "stdout",
     "output_type": "stream",
     "text": [
      "[Case Recommender: Cross Validation]\n",
      "\n",
      "Database:: ../datasets/ml-100k/u.data \n",
      "Recommender Algorithm:: ItemKNN Algorithm | K Folds: 5\n",
      "\n",
      "Eval:: PREC@1: 0.463337 PREC@3: 0.412327 PREC@5: 0.375983 PREC@10: 0.322423 RECALL@1: 0.033208 RECALL@3: 0.084293 RECALL@5: 0.123579 RECALL@10: 0.205346 MAP@1: 0.463337 MAP@3: 0.554818 MAP@5: 0.556711 MAP@10: 0.524458 NDCG@1: 0.463337 NDCG@3: 0.63439 NDCG@5: 0.650481 NDCG@10: 0.640839 \n",
      "Eval:: PREC@1: 0.47508 RECALL@1: 0.033938 NDCG@1: 0.47508 MAP@1: 0.47508 MAP: 0.527006 PREC@3: 0.412513 RECALL@3: 0.084178 NDCG@3: 0.651009 MAP@3: 0.567162 PREC@5: 0.372004 RECALL@5: 0.121964 NDCG@5: 0.656957 MAP@5: 0.563148 PREC@10: 0.312831 RECALL@10: 0.198388 NDCG@10: 0.643132 MAP@10: 0.527006 \n",
      "Eval:: PREC@1: 0.473964 RECALL@1: 0.035114 NDCG@1: 0.473964 MAP@1: 0.473964 MAP: 0.534654 PREC@3: 0.418349 RECALL@3: 0.084014 NDCG@3: 0.658244 MAP@3: 0.571644 PREC@5: 0.382147 RECALL@5: 0.1256 NDCG@5: 0.672801 MAP@5: 0.575739 PREC@10: 0.331775 RECALL@10: 0.214468 NDCG@10: 0.653051 MAP@10: 0.534654 \n",
      "Eval:: PREC@1: 0.470776 RECALL@1: 0.03264 NDCG@1: 0.470776 MAP@1: 0.470776 MAP: 0.527885 PREC@3: 0.414098 RECALL@3: 0.083461 NDCG@3: 0.663849 MAP@3: 0.572529 PREC@5: 0.38406 RECALL@5: 0.127545 NDCG@5: 0.673354 MAP@5: 0.57219 PREC@10: 0.330712 RECALL@10: 0.211619 NDCG@10: 0.646508 MAP@10: 0.527885 \n",
      "Eval:: PREC@1: 0.463907 RECALL@1: 0.033724 NDCG@1: 0.463907 MAP@1: 0.463907 MAP: 0.525124 PREC@3: 0.406228 RECALL@3: 0.080622 NDCG@3: 0.643467 MAP@3: 0.558386 PREC@5: 0.378981 RECALL@5: 0.121567 NDCG@5: 0.65246 MAP@5: 0.557598 PREC@10: 0.322293 RECALL@10: 0.201042 NDCG@10: 0.643891 MAP@10: 0.525124 \n",
      "Mean:: PREC@1: 0.469413 RECALL@1: 0.033725 NDCG@1: 0.469413 MAP@1: 0.469413 MAP: 0.527825 PREC@3: 0.412703 RECALL@3: 0.083314 NDCG@3: 0.650192 MAP@3: 0.564908 PREC@5: 0.378635 RECALL@5: 0.124051 NDCG@5: 0.661211 MAP@5: 0.565077 PREC@10: 0.324007 RECALL@10: 0.206173 NDCG@10: 0.645484 MAP@10: 0.527825 \n",
      "STD:: PREC@1: 0.004938 RECALL@1: 0.000827 NDCG@1: 0.004938 MAP@1: 0.004938 MAP: 0.003632 PREC@3: 0.003897 RECALL@3: 0.001376 NDCG@3: 0.010459 MAP@3: 0.007112 PREC@5: 0.004310 RECALL@5: 0.002252 NDCG@5: 0.009916 MAP@5: 0.007667 PREC@10: 0.006865 RECALL@10: 0.006101 NDCG@10: 0.004194 MAP@10: 0.003632 \n"
     ]
    }
   ],
   "source": [
    "recommender = ItemKNN(as_binary=True)\n",
    "CrossValidation(input_file=db, recommender=recommender, dir_folds=folds_path, header=1, k_folds=5, write_predictions='TRUE').compute()"
   ]
  },
  {
   "cell_type": "code",
   "execution_count": 4,
   "id": "20ccd9f7-a726-4fb6-8b82-eb7e3da5d5d7",
   "metadata": {},
   "outputs": [
    {
     "name": "stdout",
     "output_type": "stream",
     "text": [
      "[Case Recommender: Cross Validation]\n",
      "\n",
      "Database:: ../datasets/ml-100k/u.data \n",
      "Recommender Algorithm:: UserKNN Algorithm | K Folds: 5\n",
      "\n",
      "Eval:: PREC@1: 0.470276 PREC@3: 0.406936 PREC@5: 0.370064 PREC@10: 0.319321 RECALL@1: 0.036443 RECALL@3: 0.090014 RECALL@5: 0.132641 RECALL@10: 0.215209 MAP@1: 0.470276 MAP@3: 0.576256 MAP@5: 0.565726 MAP@10: 0.531352 NDCG@1: 0.470276 NDCG@3: 0.672439 NDCG@5: 0.663947 NDCG@10: 0.652025 \n",
      "Eval:: PREC@1: 0.493631 RECALL@1: 0.038761 NDCG@1: 0.493631 MAP@1: 0.493631 MAP: 0.547337 PREC@3: 0.429936 RECALL@3: 0.096745 NDCG@3: 0.683711 MAP@3: 0.594657 PREC@5: 0.388747 RECALL@5: 0.140832 NDCG@5: 0.685088 MAP@5: 0.588753 PREC@10: 0.32431 RECALL@10: 0.218835 NDCG@10: 0.661297 MAP@10: 0.547337 \n",
      "Eval:: PREC@1: 0.467656 RECALL@1: 0.037151 NDCG@1: 0.467656 MAP@1: 0.467656 MAP: 0.529477 PREC@3: 0.410746 RECALL@3: 0.089455 NDCG@3: 0.669295 MAP@3: 0.574761 PREC@5: 0.377306 RECALL@5: 0.130761 NDCG@5: 0.663283 MAP@5: 0.568568 PREC@10: 0.32386 RECALL@10: 0.215669 NDCG@10: 0.649883 MAP@10: 0.529477 \n",
      "Eval:: PREC@1: 0.467656 RECALL@1: 0.037413 NDCG@1: 0.467656 MAP@1: 0.467656 MAP: 0.545813 PREC@3: 0.437257 RECALL@3: 0.098224 NDCG@3: 0.681944 MAP@3: 0.585189 PREC@5: 0.388759 RECALL@5: 0.13738 NDCG@5: 0.681024 MAP@5: 0.58245 PREC@10: 0.325981 RECALL@10: 0.217711 NDCG@10: 0.666157 MAP@10: 0.545813 \n",
      "Eval:: PREC@1: 0.456961 RECALL@1: 0.03407 NDCG@1: 0.456961 MAP@1: 0.456961 MAP: 0.526917 PREC@3: 0.409848 RECALL@3: 0.08636 NDCG@3: 0.65424 MAP@3: 0.563231 PREC@5: 0.380659 RECALL@5: 0.130162 NDCG@5: 0.659576 MAP@5: 0.561325 PREC@10: 0.326142 RECALL@10: 0.212274 NDCG@10: 0.64502 MAP@10: 0.526917 \n",
      "Mean:: PREC@1: 0.471236 RECALL@1: 0.036768 NDCG@1: 0.471236 MAP@1: 0.471236 MAP: 0.536179 PREC@3: 0.418945 RECALL@3: 0.092160 NDCG@3: 0.672326 MAP@3: 0.578819 PREC@5: 0.381107 RECALL@5: 0.134355 NDCG@5: 0.670584 MAP@5: 0.573364 PREC@10: 0.323923 RECALL@10: 0.215940 NDCG@10: 0.654876 MAP@10: 0.536179 \n",
      "STD:: PREC@1: 0.012098 RECALL@1: 0.001544 NDCG@1: 0.012098 MAP@1: 0.012098 MAP: 0.008618 PREC@3: 0.012250 RECALL@3: 0.004547 NDCG@3: 0.010568 MAP@3: 0.010559 PREC@5: 0.007121 RECALL@5: 0.004112 NDCG@5: 0.010372 MAP@5: 0.010447 PREC@10: 0.002469 RECALL@10: 0.002261 NDCG@10: 0.007729 MAP@10: 0.008618 \n"
     ]
    }
   ],
   "source": [
    "recommender = UserKNN(as_binary=True)\n",
    "CrossValidation(input_file=db, recommender=recommender, dir_folds=folds_path, header=1, k_folds=5, write_predictions='TRUE').compute()"
   ]
  },
  {
   "cell_type": "code",
   "execution_count": 5,
   "id": "4108a209-1107-4d01-b29e-ac0a10a6d012",
   "metadata": {},
   "outputs": [
    {
     "name": "stdout",
     "output_type": "stream",
     "text": [
      "[Case Recommender: Cross Validation]\n",
      "\n",
      "Database:: ../datasets/ml-100k/u.data \n",
      "Recommender Algorithm:: Most Popular | K Folds: 5\n",
      "\n",
      "Eval:: PREC@1: 0.273114 PREC@3: 0.222458 PREC@5: 0.21169 PREC@10: 0.189904 RECALL@1: 0.014231 RECALL@3: 0.038975 RECALL@5: 0.066105 RECALL@10: 0.114279 MAP@1: 0.273114 MAP@3: 0.349539 MAP@5: 0.36655 MAP@10: 0.353368 NDCG@1: 0.273114 NDCG@3: 0.425051 NDCG@5: 0.467165 NDCG@10: 0.478319 \n",
      "Eval:: PREC@1: 0.285106 RECALL@1: 0.017412 NDCG@1: 0.285106 MAP@1: 0.285106 MAP: 0.352919 PREC@3: 0.21383 RECALL@3: 0.037681 NDCG@3: 0.399314 MAP@3: 0.343794 PREC@5: 0.213404 RECALL@5: 0.068525 NDCG@5: 0.456187 MAP@5: 0.368641 PREC@10: 0.19117 RECALL@10: 0.11419 NDCG@10: 0.465405 MAP@10: 0.352919 \n",
      "Eval:: PREC@1: 0.252654 RECALL@1: 0.014285 NDCG@1: 0.252654 MAP@1: 0.252654 MAP: 0.344455 PREC@3: 0.214437 RECALL@3: 0.038981 NDCG@3: 0.408563 MAP@3: 0.334926 PREC@5: 0.209766 RECALL@5: 0.067577 NDCG@5: 0.452784 MAP@5: 0.356856 PREC@10: 0.189915 RECALL@10: 0.113025 NDCG@10: 0.465861 MAP@10: 0.344455 \n",
      "Eval:: PREC@1: 0.282678 RECALL@1: 0.015893 NDCG@1: 0.282678 MAP@1: 0.282678 MAP: 0.359827 PREC@3: 0.231314 RECALL@3: 0.04551 NDCG@3: 0.450114 MAP@3: 0.369465 PREC@5: 0.214028 RECALL@5: 0.069316 NDCG@5: 0.481079 MAP@5: 0.379347 PREC@10: 0.187673 RECALL@10: 0.111822 NDCG@10: 0.483342 MAP@10: 0.359827 \n",
      "Eval:: PREC@1: 0.2431 RECALL@1: 0.014685 NDCG@1: 0.2431 MAP@1: 0.2431 MAP: 0.346333 PREC@3: 0.212314 RECALL@3: 0.03974 NDCG@3: 0.411938 MAP@3: 0.330414 PREC@5: 0.209766 RECALL@5: 0.069915 NDCG@5: 0.468659 MAP@5: 0.359333 PREC@10: 0.193312 RECALL@10: 0.116348 NDCG@10: 0.478691 MAP@10: 0.346333 \n",
      "Mean:: PREC@1: 0.267330 RECALL@1: 0.015301 NDCG@1: 0.267330 MAP@1: 0.267330 MAP: 0.351380 PREC@3: 0.218871 RECALL@3: 0.040177 NDCG@3: 0.418996 MAP@3: 0.345628 PREC@5: 0.211731 RECALL@5: 0.068288 NDCG@5: 0.465175 MAP@5: 0.366145 PREC@10: 0.190395 RECALL@10: 0.113933 NDCG@10: 0.474324 MAP@10: 0.351380 \n",
      "STD:: PREC@1: 0.016658 RECALL@1: 0.001214 NDCG@1: 0.016658 MAP@1: 0.016658 MAP: 0.005497 PREC@3: 0.007152 RECALL@3: 0.002747 NDCG@3: 0.017613 MAP@3: 0.013659 PREC@5: 0.001778 RECALL@5: 0.001344 NDCG@5: 0.010034 MAP@5: 0.007917 PREC@10: 0.001843 RECALL@10: 0.001503 NDCG@10: 0.007315 MAP@10: 0.005497 \n"
     ]
    }
   ],
   "source": [
    "recommender = MostPopular(as_binary=True)\n",
    "CrossValidation(input_file=db, recommender=recommender, dir_folds=folds_path, header=1, k_folds=5, write_predictions='TRUE').compute()"
   ]
  },
  {
   "cell_type": "code",
   "execution_count": null,
   "id": "c3fb5b3c-0d6c-425c-8731-1512d45bb59b",
   "metadata": {},
   "outputs": [],
   "source": []
  }
 ],
 "metadata": {
  "kernelspec": {
   "display_name": "Python 3 (ipykernel)",
   "language": "python",
   "name": "python3"
  },
  "language_info": {
   "codemirror_mode": {
    "name": "ipython",
    "version": 3
   },
   "file_extension": ".py",
   "mimetype": "text/x-python",
   "name": "python",
   "nbconvert_exporter": "python",
   "pygments_lexer": "ipython3",
   "version": "3.10.12"
  },
  "vscode": {
   "interpreter": {
    "hash": "aee8b7b246df8f9039afb4144a1f6fd8d2ca17a180786b69acc140d282b71a49"
   }
  }
 },
 "nbformat": 4,
 "nbformat_minor": 5
}
