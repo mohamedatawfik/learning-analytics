{
 "cells": [
  {
   "cell_type": "code",
   "execution_count": 2,
   "id": "c378601e-415e-4f45-afe8-97686b126dfb",
   "metadata": {},
   "outputs": [],
   "source": [
    "from caserec.recommenders.item_recommendation.itemknn import ItemKNN\n",
    "from caserec.recommenders.item_recommendation.userknn import UserKNN\n",
    "from caserec.recommenders.item_recommendation.most_popular import MostPopular\n",
    "from caserec.utils.cross_validation import CrossValidation"
   ]
  },
  {
   "cell_type": "code",
   "execution_count": 3,
   "id": "f8e8e716",
   "metadata": {},
   "outputs": [],
   "source": [
    "db = '../datasets/ml-100k/u.data'\n",
    "folds_path = '../datasets/ml-100k/'"
   ]
  },
  {
   "cell_type": "code",
   "execution_count": 4,
   "id": "51ec7657",
   "metadata": {},
   "outputs": [
    {
     "name": "stdout",
     "output_type": "stream",
     "text": [
      "[Case Recommender: Cross Validation]\n",
      "\n",
      "Database:: ../datasets/ml-100k/u.data \n",
      "Recommender Algorithm:: ItemKNN Algorithm | K Folds: 5\n",
      "\n",
      "Eval:: PREC@1: 0.445387 PREC@3: 0.411806 PREC@5: 0.371368 PREC@10: 0.321209 RECALL@1: 0.030022 RECALL@3: 0.082516 RECALL@5: 0.119519 RECALL@10: 0.202461 MAP@1: 0.445387 MAP@3: 0.551608 MAP@5: 0.55367 MAP@10: 0.518763 NDCG@1: 0.445387 NDCG@3: 0.642152 NDCG@5: 0.648653 NDCG@10: 0.640791 \n",
      "Eval:: PREC@1: 0.454931 RECALL@1: 0.0286 NDCG@1: 0.454931 MAP@1: 0.454931 MAP: 0.528574 PREC@3: 0.424885 RECALL@3: 0.085588 NDCG@3: 0.670047 MAP@3: 0.571227 PREC@5: 0.388759 RECALL@5: 0.127963 NDCG@5: 0.666124 MAP@5: 0.566508 PREC@10: 0.331283 RECALL@10: 0.215065 NDCG@10: 0.650346 MAP@10: 0.528574 \n",
      "Eval:: PREC@1: 0.463415 RECALL@1: 0.0341 NDCG@1: 0.463415 MAP@1: 0.463415 MAP: 0.523364 PREC@3: 0.413927 RECALL@3: 0.085951 NDCG@3: 0.647076 MAP@3: 0.560357 PREC@5: 0.376458 RECALL@5: 0.124574 NDCG@5: 0.651874 MAP@5: 0.559158 PREC@10: 0.325451 RECALL@10: 0.210155 NDCG@10: 0.641192 MAP@10: 0.523364 \n",
      "Eval:: PREC@1: 0.438765 RECALL@1: 0.030482 NDCG@1: 0.438765 MAP@1: 0.438765 MAP: 0.513588 PREC@3: 0.404331 RECALL@3: 0.083123 NDCG@3: 0.648064 MAP@3: 0.550763 PREC@5: 0.372737 RECALL@5: 0.120858 NDCG@5: 0.65054 MAP@5: 0.547527 PREC@10: 0.3164 RECALL@10: 0.20059 NDCG@10: 0.638043 MAP@10: 0.513588 \n",
      "Eval:: PREC@1: 0.489904 RECALL@1: 0.033616 NDCG@1: 0.489904 MAP@1: 0.489904 MAP: 0.539835 PREC@3: 0.419412 RECALL@3: 0.08609 NDCG@3: 0.666385 MAP@3: 0.580942 PREC@5: 0.384697 RECALL@5: 0.12801 NDCG@5: 0.666732 MAP@5: 0.574852 PREC@10: 0.323592 RECALL@10: 0.204321 NDCG@10: 0.660354 MAP@10: 0.539835 \n",
      "Mean:: PREC@1: 0.458480 RECALL@1: 0.031364 NDCG@1: 0.458480 MAP@1: 0.458480 MAP: 0.524825 PREC@3: 0.414872 RECALL@3: 0.084654 NDCG@3: 0.654745 MAP@3: 0.562979 PREC@5: 0.378804 RECALL@5: 0.124185 NDCG@5: 0.656785 MAP@5: 0.560343 PREC@10: 0.323587 RECALL@10: 0.206518 NDCG@10: 0.646145 MAP@10: 0.524825 \n",
      "STD:: PREC@1: 0.017802 RECALL@1: 0.002134 NDCG@1: 0.017802 MAP@1: 0.017802 MAP: 0.008995 PREC@3: 0.006961 RECALL@3: 0.001519 NDCG@3: 0.011240 MAP@3: 0.011628 PREC@5: 0.006803 RECALL@5: 0.003518 NDCG@5: 0.007942 MAP@5: 0.009578 PREC@10: 0.004899 RECALL@10: 0.005342 NDCG@10: 0.008227 MAP@10: 0.008995 \n"
     ]
    }
   ],
   "source": [
    "recommender = ItemKNN(as_binary=True)\n",
    "CrossValidation(input_file=db, recommender=recommender, dir_folds=folds_path, header=1, k_folds=5, write_predictions='TRUE').compute()"
   ]
  },
  {
   "cell_type": "code",
   "execution_count": 6,
   "id": "e0cf7e0c",
   "metadata": {},
   "outputs": [
    {
     "name": "stdout",
     "output_type": "stream",
     "text": [
      "[Case Recommender: Cross Validation]\n",
      "\n",
      "Database:: ../datasets/ml-100k/u.data \n",
      "Recommender Algorithm:: UserKNN Algorithm | K Folds: 5\n",
      "\n",
      "Eval:: PREC@1: 0.488865 PREC@3: 0.410392 PREC@5: 0.375822 PREC@10: 0.3228 RECALL@1: 0.038043 RECALL@3: 0.088379 RECALL@5: 0.127262 RECALL@10: 0.214718 MAP@1: 0.488865 MAP@3: 0.582008 MAP@5: 0.576402 MAP@10: 0.534929 NDCG@1: 0.488865 NDCG@3: 0.670829 NDCG@5: 0.673238 NDCG@10: 0.65408 \n",
      "Eval:: PREC@1: 0.469713 RECALL@1: 0.034461 NDCG@1: 0.469713 MAP@1: 0.469713 MAP: 0.533505 PREC@3: 0.417995 RECALL@3: 0.092414 NDCG@3: 0.653765 MAP@3: 0.569253 PREC@5: 0.388948 RECALL@5: 0.139768 NDCG@5: 0.663783 MAP@5: 0.566447 PREC@10: 0.332306 RECALL@10: 0.221813 NDCG@10: 0.654391 MAP@10: 0.533505 \n",
      "Eval:: PREC@1: 0.448936 RECALL@1: 0.035772 NDCG@1: 0.448936 MAP@1: 0.448936 MAP: 0.528269 PREC@3: 0.409929 RECALL@3: 0.093329 NDCG@3: 0.668145 MAP@3: 0.566489 PREC@5: 0.37617 RECALL@5: 0.135441 NDCG@5: 0.677103 MAP@5: 0.570511 PREC@10: 0.324149 RECALL@10: 0.214855 NDCG@10: 0.653603 MAP@10: 0.528269 \n",
      "Eval:: PREC@1: 0.468717 RECALL@1: 0.036205 NDCG@1: 0.468717 MAP@1: 0.468717 MAP: 0.537035 PREC@3: 0.417462 RECALL@3: 0.091316 NDCG@3: 0.6762 MAP@3: 0.578031 PREC@5: 0.380488 RECALL@5: 0.133979 NDCG@5: 0.680982 MAP@5: 0.578016 PREC@10: 0.318982 RECALL@10: 0.209597 NDCG@10: 0.660374 MAP@10: 0.537035 \n",
      "Eval:: PREC@1: 0.472959 RECALL@1: 0.03852 NDCG@1: 0.472959 MAP@1: 0.472959 MAP: 0.5285 PREC@3: 0.400141 RECALL@3: 0.08637 NDCG@3: 0.65241 MAP@3: 0.569194 PREC@5: 0.365854 RECALL@5: 0.125891 NDCG@5: 0.651974 MAP@5: 0.561043 PREC@10: 0.316437 RECALL@10: 0.208145 NDCG@10: 0.639244 MAP@10: 0.5285 \n",
      "Mean:: PREC@1: 0.469838 RECALL@1: 0.036600 NDCG@1: 0.469838 MAP@1: 0.469838 MAP: 0.532448 PREC@3: 0.411184 RECALL@3: 0.090362 NDCG@3: 0.664270 MAP@3: 0.572995 PREC@5: 0.377456 RECALL@5: 0.132468 NDCG@5: 0.669416 MAP@5: 0.570484 PREC@10: 0.322935 RECALL@10: 0.213826 NDCG@10: 0.652338 MAP@10: 0.532448 \n",
      "STD:: PREC@1: 0.012727 RECALL@1: 0.001496 NDCG@1: 0.012727 MAP@1: 0.012727 MAP: 0.003503 PREC@3: 0.006480 RECALL@3: 0.002600 NDCG@3: 0.009501 MAP@3: 0.005956 PREC@5: 0.007486 RECALL@5: 0.005192 NDCG@5: 0.010425 MAP@5: 0.006280 PREC@10: 0.005425 RECALL@10: 0.004813 NDCG@10: 0.006998 MAP@10: 0.003503 \n"
     ]
    }
   ],
   "source": [
    "recommender = UserKNN(as_binary=True)\n",
    "CrossValidation(input_file=db, recommender=recommender, dir_folds=folds_path, header=1, k_folds=5, write_predictions='TRUE').compute()"
   ]
  },
  {
   "cell_type": "code",
   "execution_count": null,
   "id": "624f78b5",
   "metadata": {},
   "outputs": [],
   "source": [
    "recommender = MostPopular(as_binary=True)\n",
    "CrossValidation(input_file=db, recommender=recommender, dir_folds=folds_path, header=1, k_folds=5, write_predictions='TRUE').compute()"
   ]
  }
 ],
 "metadata": {
  "kernelspec": {
   "display_name": "Python 3 (ipykernel)",
   "language": "python",
   "name": "python3"
  },
  "language_info": {
   "codemirror_mode": {
    "name": "ipython",
    "version": 3
   },
   "file_extension": ".py",
   "mimetype": "text/x-python",
   "name": "python",
   "nbconvert_exporter": "python",
   "pygments_lexer": "ipython3",
   "version": "3.10.12"
  },
  "vscode": {
   "interpreter": {
    "hash": "aee8b7b246df8f9039afb4144a1f6fd8d2ca17a180786b69acc140d282b71a49"
   }
  }
 },
 "nbformat": 4,
 "nbformat_minor": 5
}
