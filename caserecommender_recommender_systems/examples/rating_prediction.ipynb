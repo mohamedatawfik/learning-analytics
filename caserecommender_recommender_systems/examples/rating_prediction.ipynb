{
 "cells": [
  {
   "cell_type": "code",
   "execution_count": 1,
   "metadata": {},
   "outputs": [],
   "source": [
    "from caserec.recommenders.rating_prediction.matrixfactorization import MatrixFactorization\n",
    "from caserec.recommenders.rating_prediction.itemknn import ItemKNN\n",
    "from caserec.recommenders.rating_prediction.userknn import UserKNN\n",
    "from caserec.utils.cross_validation import CrossValidation"
   ]
  },
  {
   "cell_type": "code",
   "execution_count": 2,
   "metadata": {},
   "outputs": [],
   "source": [
    "db = '../datasets/ml-100k/u.data'\n",
    "folds_path = '../datasets/ml-100k/'"
   ]
  },
  {
   "cell_type": "code",
   "execution_count": 3,
   "metadata": {},
   "outputs": [
    {
     "name": "stdout",
     "output_type": "stream",
     "text": [
      "[Case Recommender: Cross Validation]\n",
      "\n",
      "Database:: ../datasets/ml-100k/u.data \n",
      "Recommender Algorithm:: ItemKNN Algorithm | K Folds: 5\n",
      "\n",
      "Eval:: MAE: 0.795453 RMSE: 1.030468 \n",
      "Eval:: MAE: 0.80044 RMSE: 1.043652 \n",
      "Eval:: MAE: 0.803531 RMSE: 1.046436 \n",
      "Eval:: MAE: 0.794955 RMSE: 1.030649 \n",
      "Eval:: MAE: 0.803319 RMSE: 1.048056 \n",
      "Mean:: MAE: 0.799540 RMSE: 1.039852 \n",
      "STD:: MAE: 0.003708 RMSE: 0.007718 \n"
     ]
    }
   ],
   "source": [
    "recommender = ItemKNN()\n",
    "CrossValidation(input_file=db, recommender=recommender, dir_folds=folds_path, header=1, k_folds=5, write_predictions='TRUE').compute()"
   ]
  },
  {
   "cell_type": "code",
   "execution_count": null,
   "metadata": {},
   "outputs": [
    {
     "name": "stdout",
     "output_type": "stream",
     "text": [
      "[Case Recommender: Cross Validation]\n",
      "\n",
      "Database:: ../datasets/ml-100k/u.data \n",
      "Recommender Algorithm:: UserKNN Algorithm | K Folds: 5\n",
      "\n"
     ]
    }
   ],
   "source": [
    "recommender = UserKNN()\n",
    "CrossValidation(input_file=db, recommender=recommender, dir_folds=folds_path, header=1, k_folds=5, write_predictions='TRUE').compute()"
   ]
  },
  {
   "cell_type": "code",
   "execution_count": null,
   "metadata": {},
   "outputs": [],
   "source": [
    "recommender = MatrixFactorization()\n",
    "CrossValidation(input_file=db, recommender=recommender, dir_folds=folds_path, header=1, k_folds=5, write_predictions='TRUE').compute()"
   ]
  }
 ],
 "metadata": {
  "kernelspec": {
   "display_name": "Python 3 (ipykernel)",
   "language": "python",
   "name": "python3"
  },
  "language_info": {
   "codemirror_mode": {
    "name": "ipython",
    "version": 3
   },
   "file_extension": ".py",
   "mimetype": "text/x-python",
   "name": "python",
   "nbconvert_exporter": "python",
   "pygments_lexer": "ipython3",
   "version": "3.10.12"
  },
  "vscode": {
   "interpreter": {
    "hash": "aee8b7b246df8f9039afb4144a1f6fd8d2ca17a180786b69acc140d282b71a49"
   }
  }
 },
 "nbformat": 4,
 "nbformat_minor": 4
}
