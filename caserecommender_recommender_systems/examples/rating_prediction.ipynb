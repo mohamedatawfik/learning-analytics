{
 "cells": [
  {
   "cell_type": "code",
   "execution_count": null,
   "metadata": {},
   "outputs": [],
   "source": [
    "# Importing the caserecommender rating prediction recoomenders"
   ]
  },
  {
   "cell_type": "code",
   "execution_count": 2,
   "metadata": {},
   "outputs": [],
   "source": [
    "from caserec.recommenders.rating_prediction.matrixfactorization import MatrixFactorization\n",
    "from caserec.recommenders.rating_prediction.itemknn import ItemKNN\n",
    "from caserec.recommenders.rating_prediction.userknn import UserKNN\n",
    "from caserec.utils.cross_validation import CrossValidation"
   ]
  },
  {
   "cell_type": "code",
   "execution_count": null,
   "metadata": {},
   "outputs": [],
   "source": [
    "# Defining the Dataset path and the folds output path"
   ]
  },
  {
   "cell_type": "code",
   "execution_count": 3,
   "metadata": {},
   "outputs": [],
   "source": [
    "db = '../datasets/ml-100k/u.data'\n",
    "folds_path = '../datasets/ml-100k/'"
   ]
  },
  {
   "cell_type": "code",
   "execution_count": null,
   "metadata": {},
   "outputs": [],
   "source": [
    "# Using the Item KNN recommender to do rating prediction\n",
    "# Using Cross Validation for evaluation"
   ]
  },
  {
   "cell_type": "code",
   "execution_count": 4,
   "metadata": {},
   "outputs": [
    {
     "name": "stdout",
     "output_type": "stream",
     "text": [
      "[Case Recommender: Cross Validation]\n",
      "\n",
      "Database:: ../datasets/ml-100k/u.data \n",
      "Recommender Algorithm:: ItemKNN Algorithm | K Folds: 5\n",
      "\n",
      "Eval:: MAE: 0.799408 RMSE: 1.039178 \n",
      "Eval:: MAE: 0.797425 RMSE: 1.035007 \n",
      "Eval:: MAE: 0.796257 RMSE: 1.037566 \n",
      "Eval:: MAE: 0.808179 RMSE: 1.050027 \n",
      "Eval:: MAE: 0.801486 RMSE: 1.04439 \n",
      "Mean:: MAE: 0.800551 RMSE: 1.041234 \n",
      "STD:: MAE: 0.004209 RMSE: 0.005362 \n"
     ]
    }
   ],
   "source": [
    "recommender = ItemKNN()\n",
    "CrossValidation(input_file=db, recommender=recommender, dir_folds=folds_path, header=1, k_folds=5, write_predictions='TRUE').compute()"
   ]
  },
  {
   "cell_type": "code",
   "execution_count": null,
   "metadata": {},
   "outputs": [],
   "source": [
    "# Using the User KNN recommender to do rating prediction\n",
    "# Using Cross Validation for evaluation"
   ]
  },
  {
   "cell_type": "code",
   "execution_count": 5,
   "metadata": {},
   "outputs": [
    {
     "name": "stdout",
     "output_type": "stream",
     "text": [
      "[Case Recommender: Cross Validation]\n",
      "\n",
      "Database:: ../datasets/ml-100k/u.data \n",
      "Recommender Algorithm:: UserKNN Algorithm | K Folds: 5\n",
      "\n",
      "Eval:: MAE: 0.727938 RMSE: 0.929685 \n",
      "Eval:: MAE: 0.742038 RMSE: 0.94872 \n",
      "Eval:: MAE: 0.738743 RMSE: 0.942021 \n",
      "Eval:: MAE: 0.728624 RMSE: 0.931367 \n",
      "Eval:: MAE: 0.736858 RMSE: 0.945094 \n",
      "Mean:: MAE: 0.734840 RMSE: 0.939377 \n",
      "STD:: MAE: 0.005611 RMSE: 0.007551 \n"
     ]
    }
   ],
   "source": [
    "recommender = UserKNN()\n",
    "CrossValidation(input_file=db, recommender=recommender, dir_folds=folds_path, header=1, k_folds=5, write_predictions='TRUE').compute()"
   ]
  },
  {
   "cell_type": "code",
   "execution_count": null,
   "metadata": {},
   "outputs": [],
   "source": [
    "# Using the Matrix factorization recommender to do rating prediction\n",
    "# Using Cross Validation for evaluation"
   ]
  },
  {
   "cell_type": "code",
   "execution_count": 6,
   "metadata": {},
   "outputs": [
    {
     "name": "stdout",
     "output_type": "stream",
     "text": [
      "[Case Recommender: Cross Validation]\n",
      "\n",
      "Database:: ../datasets/ml-100k/u.data \n",
      "Recommender Algorithm:: Matrix Factorization | K Folds: 5\n",
      "\n",
      "Eval:: MAE: 0.74404 RMSE: 0.951153 \n",
      "Eval:: MAE: 0.745785 RMSE: 0.954859 \n",
      "Eval:: MAE: 0.747969 RMSE: 0.953805 \n",
      "Eval:: MAE: 0.835194 RMSE: 1.049666 \n",
      "Eval:: MAE: 0.833071 RMSE: 1.050712 \n",
      "Mean:: MAE: 0.781212 RMSE: 0.992039 \n",
      "STD:: MAE: 0.043233 RMSE: 0.047496 \n"
     ]
    }
   ],
   "source": [
    "recommender = MatrixFactorization()\n",
    "CrossValidation(input_file=db, recommender=recommender, dir_folds=folds_path, header=1, k_folds=5, write_predictions='TRUE').compute()"
   ]
  },
  {
   "cell_type": "code",
   "execution_count": null,
   "metadata": {},
   "outputs": [],
   "source": []
  }
 ],
 "metadata": {
  "kernelspec": {
   "display_name": "Python 3 (ipykernel)",
   "language": "python",
   "name": "python3"
  },
  "language_info": {
   "codemirror_mode": {
    "name": "ipython",
    "version": 3
   },
   "file_extension": ".py",
   "mimetype": "text/x-python",
   "name": "python",
   "nbconvert_exporter": "python",
   "pygments_lexer": "ipython3",
   "version": "3.10.12"
  },
  "vscode": {
   "interpreter": {
    "hash": "aee8b7b246df8f9039afb4144a1f6fd8d2ca17a180786b69acc140d282b71a49"
   }
  }
 },
 "nbformat": 4,
 "nbformat_minor": 4
}
