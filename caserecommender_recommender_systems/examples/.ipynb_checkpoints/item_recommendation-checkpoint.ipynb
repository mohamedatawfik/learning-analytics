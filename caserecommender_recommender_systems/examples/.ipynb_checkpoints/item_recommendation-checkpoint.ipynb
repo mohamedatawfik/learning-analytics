{
 "cells": [
  {
   "cell_type": "code",
   "execution_count": 2,
   "id": "c378601e-415e-4f45-afe8-97686b126dfb",
   "metadata": {},
   "outputs": [],
   "source": [
    "from caserec.recommenders.item_recommendation.itemknn import ItemKNN\n",
    "from caserec.recommenders.item_recommendation.userknn import UserKNN\n",
    "from caserec.recommenders.item_recommendation.most_popular import MostPopular\n",
    "from caserec.utils.cross_validation import CrossValidation"
   ]
  },
  {
   "cell_type": "code",
   "execution_count": 3,
   "id": "f8e8e716",
   "metadata": {},
   "outputs": [],
   "source": [
    "db = '../datasets/ml-100k/u.data'\n",
    "folds_path = '../datasets/ml-100k/'"
   ]
  },
  {
   "cell_type": "code",
   "execution_count": null,
   "id": "624f78b5",
   "metadata": {},
   "outputs": [],
   "source": [
    "recommender = ItemKNN(as_binary=True)\n",
    "CrossValidation(input_file=db, recommender=recommender, dir_folds=folds_path, header=1, k_folds=5, write_predictions='TRUE').compute()"
   ]
  },
  {
   "cell_type": "code",
   "execution_count": null,
   "id": "20ccd9f7-a726-4fb6-8b82-eb7e3da5d5d7",
   "metadata": {},
   "outputs": [],
   "source": [
    "recommender = UserKNN(as_binary=True)\n",
    "CrossValidation(input_file=db, recommender=recommender, dir_folds=folds_path, header=1, k_folds=5, write_predictions='TRUE').compute()"
   ]
  },
  {
   "cell_type": "code",
   "execution_count": null,
   "id": "4108a209-1107-4d01-b29e-ac0a10a6d012",
   "metadata": {},
   "outputs": [],
   "source": [
    "recommender = MostPopular(as_binary=True)\n",
    "CrossValidation(input_file=db, recommender=recommender, dir_folds=folds_path, header=1, k_folds=5, write_predictions='TRUE').compute()"
   ]
  }
 ],
 "metadata": {
  "kernelspec": {
   "display_name": "Python 3 (ipykernel)",
   "language": "python",
   "name": "python3"
  },
  "language_info": {
   "codemirror_mode": {
    "name": "ipython",
    "version": 3
   },
   "file_extension": ".py",
   "mimetype": "text/x-python",
   "name": "python",
   "nbconvert_exporter": "python",
   "pygments_lexer": "ipython3",
   "version": "3.10.12"
  },
  "vscode": {
   "interpreter": {
    "hash": "aee8b7b246df8f9039afb4144a1f6fd8d2ca17a180786b69acc140d282b71a49"
   }
  }
 },
 "nbformat": 4,
 "nbformat_minor": 5
}
