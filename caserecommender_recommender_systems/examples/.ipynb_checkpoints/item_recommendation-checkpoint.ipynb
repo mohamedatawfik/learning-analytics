{
 "cells": [
  {
   "cell_type": "code",
   "execution_count": null,
   "id": "c378601e-415e-4f45-afe8-97686b126dfb",
   "metadata": {},
   "outputs": [
    {
     "ename": "",
     "evalue": "",
     "output_type": "error",
     "traceback": [
      "\u001b[1;31mJupyter cannot be started. Error attempting to locate Jupyter: Running cells requires jupyter and notebook package.\n",
      "\u001b[1;31mRun the following command to install 'jupyter and notebook' into the Python environment. \n",
      "\u001b[1;31mCommand: 'python -m pip install jupyter notebook -U\n",
      "\u001b[1;31mor\n",
      "\u001b[1;31mconda install jupyter notebook -U'\n",
      "\u001b[1;31mClick <a href='https://aka.ms/installJupyterForVSCode'>here</a> for more info."
     ]
    }
   ],
   "source": [
    "from caserec.recommenders.item_recommendation.itemknn import ItemKNN\n",
    "from caserec.recommenders.item_recommendation.userknn import UserKNN\n",
    "from caserec.recommenders.item_recommendation.most_popular import MostPopular\n",
    "from caserec.utils.cross_validation import CrossValidation"
   ]
  },
  {
   "cell_type": "code",
   "execution_count": null,
   "id": "f8e8e716",
   "metadata": {},
   "outputs": [],
   "source": [
    "db = '../datasets/ml-100k/u.data'\n",
    "folds_path = '../datasets/ml-100k/'"
   ]
  },
  {
   "cell_type": "code",
   "execution_count": null,
   "id": "51ec7657",
   "metadata": {},
   "outputs": [],
   "source": [
    "recommender = ItemKNN(as_binary=True)\n",
    "CrossValidation(input_file=db, recommender=recommender, dir_folds=folds_path, header=1, k_folds=5, write_predictions='TRUE').compute()"
   ]
  },
  {
   "cell_type": "code",
   "execution_count": null,
   "id": "e0cf7e0c",
   "metadata": {},
   "outputs": [],
   "source": [
    "recommender = UserKNN(as_binary=True)\n",
    "CrossValidation(input_file=db, recommender=recommender, dir_folds=folds_path, header=1, k_folds=5, write_predictions='TRUE').compute()"
   ]
  },
  {
   "cell_type": "code",
   "execution_count": null,
   "id": "624f78b5",
   "metadata": {},
   "outputs": [],
   "source": [
    "recommender = MostPopular(as_binary=True)\n",
    "CrossValidation(input_file=db, recommender=recommender, dir_folds=folds_path, header=1, k_folds=5, write_predictions='TRUE').compute()"
   ]
  }
 ],
 "metadata": {
  "kernelspec": {
   "display_name": "Python 3",
   "language": "python",
   "name": "python3"
  },
  "language_info": {
   "codemirror_mode": {
    "name": "ipython",
    "version": 3
   },
   "file_extension": ".py",
   "mimetype": "text/x-python",
   "name": "python",
   "nbconvert_exporter": "python",
   "pygments_lexer": "ipython3",
   "version": "3.12.0 (v3.12.0:0fb18b02c8, Oct  2 2023, 09:45:56) [Clang 13.0.0 (clang-1300.0.29.30)]"
  },
  "vscode": {
   "interpreter": {
    "hash": "aee8b7b246df8f9039afb4144a1f6fd8d2ca17a180786b69acc140d282b71a49"
   }
  }
 },
 "nbformat": 4,
 "nbformat_minor": 5
}
